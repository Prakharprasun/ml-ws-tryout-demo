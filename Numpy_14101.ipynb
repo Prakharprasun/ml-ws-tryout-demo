{
  "nbformat": 4,
  "nbformat_minor": 0,
  "metadata": {
    "colab": {
      "provenance": [],
      "toc_visible": true,
      "authorship_tag": "ABX9TyMq4QB7q6rmS0kh7RCCqZt4",
      "include_colab_link": true
    },
    "kernelspec": {
      "name": "python3",
      "display_name": "Python 3"
    },
    "language_info": {
      "name": "python"
    }
  },
  "cells": [
    {
      "cell_type": "markdown",
      "metadata": {
        "id": "view-in-github",
        "colab_type": "text"
      },
      "source": [
        "<a href=\"https://colab.research.google.com/github/Prakharprasun/ml-ws-tryout-demo/blob/main/Numpy_14101.ipynb\" target=\"_parent\"><img src=\"https://colab.research.google.com/assets/colab-badge.svg\" alt=\"Open In Colab\"/></a>"
      ]
    },
    {
      "cell_type": "code",
      "execution_count": 1,
      "metadata": {
        "id": "H29EjYACXya7"
      },
      "outputs": [],
      "source": [
        "import numpy as np\n"
      ]
    },
    {
      "cell_type": "code",
      "source": [
        "np.ones((3,5),dtype=int)"
      ],
      "metadata": {
        "colab": {
          "base_uri": "https://localhost:8080/"
        },
        "id": "uJbe6WKpeHWi",
        "outputId": "b55d6c50-b42d-42a4-c2fe-64fdee7e577e"
      },
      "execution_count": 2,
      "outputs": [
        {
          "output_type": "execute_result",
          "data": {
            "text/plain": [
              "array([[1, 1, 1, 1, 1],\n",
              "       [1, 1, 1, 1, 1],\n",
              "       [1, 1, 1, 1, 1]])"
            ]
          },
          "metadata": {},
          "execution_count": 2
        }
      ]
    },
    {
      "cell_type": "code",
      "source": [
        "import random"
      ],
      "metadata": {
        "id": "x-zwf8rCeRYz"
      },
      "execution_count": 3,
      "outputs": []
    },
    {
      "cell_type": "code",
      "source": [
        "np.random.randint(low=100000,high=9999999,size=(1))"
      ],
      "metadata": {
        "colab": {
          "base_uri": "https://localhost:8080/"
        },
        "id": "djCvgyAnebKC",
        "outputId": "d5381052-2f68-4507-a38b-e7367386df55"
      },
      "execution_count": 5,
      "outputs": [
        {
          "output_type": "execute_result",
          "data": {
            "text/plain": [
              "array([1987225])"
            ]
          },
          "metadata": {},
          "execution_count": 5
        }
      ]
    },
    {
      "cell_type": "code",
      "source": [
        "import numpy as np\n",
        "d_arr =np.random.randint(low=100000,high=9999999,size=(4,3))\n",
        "print(d_arr)"
      ],
      "metadata": {
        "colab": {
          "base_uri": "https://localhost:8080/"
        },
        "id": "yKPdcAhcet9n",
        "outputId": "a2a176bd-2f8e-40fa-88f1-fac8c79ff7af"
      },
      "execution_count": 14,
      "outputs": [
        {
          "output_type": "stream",
          "name": "stdout",
          "text": [
            "[[ 192351 7742122 2233456]\n",
            " [1858810 4453384 7997780]\n",
            " [9207145  304480 1572906]\n",
            " [6677440 7158955  526479]]\n"
          ]
        }
      ]
    },
    {
      "cell_type": "code",
      "source": [
        "d_arr =np.random.randint(low=100000,high=9999999,size=(20,20))\n",
        "print(d_arr)"
      ],
      "metadata": {
        "colab": {
          "base_uri": "https://localhost:8080/"
        },
        "id": "fjbrlaR_gjtp",
        "outputId": "e759b0de-bd1c-4ff3-b371-ef9486024639"
      },
      "execution_count": 31,
      "outputs": [
        {
          "output_type": "stream",
          "name": "stdout",
          "text": [
            "[[1205686 9486835 6681321 7064100 5202045 4873710 4139483  394067 8598148\n",
            "  4616413 2983753 2496277 1094569 6740318 6533785 5141496 2075447 8282268\n",
            "  9766636  861743]\n",
            " [1785401 3224261 6448209 8163415 7600669 8873682 3294704 7056590 4105668\n",
            "  9107065 1701167 3565881 5130734 9326733 5829179 2663314 1673703 7967308\n",
            "  3412156  275658]\n",
            " [ 993405 6630800 7454792 5286082 5084358 4232916 5411054 5818723 2915656\n",
            "   126959 5338517 3165692 3135363 8886221 2122915 9195369 4390647 5741078\n",
            "  8729831 7368594]\n",
            " [7171730 4804574 8987764 3325579 5003610 8143379  289913 2484571 6968070\n",
            "  1545160 8164406  187174 9587641 9293043  470586 3351356 6293630 6586473\n",
            "  3288476 7884443]\n",
            " [ 415729  884996 2502742 4347897 9353641 7062069 9536791 7229300 7897775\n",
            "  6647072 8211502 6918333  754827 1954730 9434064 9279840 9860902 3394374\n",
            "  2462021 1967205]\n",
            " [2720398 2053915 3638307 9718516 5370102 3384390 8377632 8964030 1138145\n",
            "  4173949 2700821  514780 9900715 1703023 2093250 3440683 8580694 8546923\n",
            "  5801786 2196252]\n",
            " [9185784 3828621 4480446 8124070 2301635 8535111 2762222 3695514 4799012\n",
            "  7868707  165220 8223570 9243659 2633301 6819169 2640273 4615679 2336839\n",
            "  1591266 4545425]\n",
            " [7995753 8233504 7549814 2893368 5910351 4584744 8943856 7042826 4456269\n",
            "  5616891 8692824 9438988  661450 9783864  839204 1125700 3064757 5037452\n",
            "  3418330 8457397]\n",
            " [6705249 2701880 3364892 4620760 3350630  731026  269950 8215818 4460018\n",
            "   729323 3019500 7326256 6621331 3540690  648677 1061533 9437135 3829209\n",
            "  3737827 9482402]\n",
            " [5055927 9207238 8718284 4882165 3970559  275052 4233138 3120067 1396140\n",
            "  3340983 6116455 8519997 3125550 3164857 8826186 4931145 4178624 7487699\n",
            "  5956660 4119065]\n",
            " [6051013 4429442 4118477  309285  391803 5238116 8167789 3612538  222683\n",
            "  2903722 9473418  295127 5951387 5520477 9844602 6990415 6309655  447442\n",
            "   936723 5132340]\n",
            " [9532086 2567756 9659561 7937595 7016167 5445194 4558599 2486906 2390485\n",
            "  3349124 1537028  585989 9092469 1050604  128928 8355937 1544116 9919906\n",
            "  4614311 6726972]\n",
            " [7781217 6685266 3032213 6193797 3017659 8752668 5114752  546457 4559242\n",
            "  6157606 9481373 4558566 8993599 7974084  937483 8499491 6847437 8523943\n",
            "  9754218 5829834]\n",
            " [5105041 8411358 5737149 6193670 5486923 3058439  523224 8568356 6096526\n",
            "  6415100 3989743 5872748 5692186 2230769 8241271 9573763 4465623 3830146\n",
            "  5531844 3933637]\n",
            " [3455248 3740573 8421372 8876712 4168310 3928906 9299308 1486596 5716516\n",
            "  5496038  211084 9098311 4616636 3634677 9151092 2423761 3326267  193075\n",
            "  7230033 3909591]\n",
            " [8348727  631488 6035395 8177856 4796332 5504409 9253361 6664442 8364898\n",
            "  6114236  402568 1722430 7127673  420748 1218870 2170607 3910065 4058408\n",
            "  3562526 9489311]\n",
            " [ 691604 3845680 4375415 7213138 7093072 8420480 5719500 2250662 5062492\n",
            "   339586 2831132 7540675 7042471 3313702 6654912 1507369 5673120 5130927\n",
            "  6507187 5106583]\n",
            " [5314988  983761 9367853 8066905 8141261  495491 9100904 7972565 3316778\n",
            "  3403086 1053578 1936961 2055539 2485513 8231777 2325826 8022351 3112930\n",
            "  5273623 8421719]\n",
            " [7514328 5917410 5482281 8356562 8619740 9212746 9262125 4070520 4828930\n",
            "  1305652 5047532 5545431 4810513 7836558 6244967 7938526 1804207 5763364\n",
            "   481560 6042204]\n",
            " [3203554 1773578 8333059 4152306 4423683  364280 1994954 9364297 1881805\n",
            "  6444852 3701210 5817341 9851514 4768674 6937645 1254795 5627681 8845743\n",
            "  7310000 1484942]]\n"
          ]
        }
      ]
    },
    {
      "cell_type": "code",
      "source": [
        "4571976 in d_arr"
      ],
      "metadata": {
        "colab": {
          "base_uri": "https://localhost:8080/"
        },
        "id": "0z3C6FPcg2Yu",
        "outputId": "e4e50754-0461-45ab-d4a3-6d0ce441470f"
      },
      "execution_count": 12,
      "outputs": [
        {
          "output_type": "execute_result",
          "data": {
            "text/plain": [
              "True"
            ]
          },
          "metadata": {},
          "execution_count": 12
        }
      ]
    },
    {
      "cell_type": "code",
      "source": [
        "d_arr.max()"
      ],
      "metadata": {
        "colab": {
          "base_uri": "https://localhost:8080/"
        },
        "id": "eJ5wCF45g-WF",
        "outputId": "6b0f411b-8bc3-4761-c456-6ba34043d164"
      },
      "execution_count": 15,
      "outputs": [
        {
          "output_type": "execute_result",
          "data": {
            "text/plain": [
              "9207145"
            ]
          },
          "metadata": {},
          "execution_count": 15
        }
      ]
    },
    {
      "cell_type": "code",
      "source": [
        "d_arr.std()"
      ],
      "metadata": {
        "colab": {
          "base_uri": "https://localhost:8080/"
        },
        "id": "xTdTMzCzhIaE",
        "outputId": "7d60db70-acb3-4e58-efa5-3b1bdfc95ce2"
      },
      "execution_count": 16,
      "outputs": [
        {
          "output_type": "execute_result",
          "data": {
            "text/plain": [
              "3265488.523322336"
            ]
          },
          "metadata": {},
          "execution_count": 16
        }
      ]
    },
    {
      "cell_type": "markdown",
      "source": [
        "std = standard deviation"
      ],
      "metadata": {
        "id": "UOxzl3P0hhxl"
      }
    },
    {
      "cell_type": "code",
      "source": [
        "d_arr[3,5]"
      ],
      "metadata": {
        "colab": {
          "base_uri": "https://localhost:8080/"
        },
        "id": "cKYeOH0ohwup",
        "outputId": "c270177a-c470-4ff2-c18e-1efc49d02d2f"
      },
      "execution_count": 18,
      "outputs": [
        {
          "output_type": "execute_result",
          "data": {
            "text/plain": [
              "6609504"
            ]
          },
          "metadata": {},
          "execution_count": 18
        }
      ]
    },
    {
      "cell_type": "code",
      "source": [
        "d_arr[:,:3]"
      ],
      "metadata": {
        "colab": {
          "base_uri": "https://localhost:8080/"
        },
        "id": "1XWXH_90kANC",
        "outputId": "60876df2-5393-4768-aacd-32dadbd81dbf"
      },
      "execution_count": 19,
      "outputs": [
        {
          "output_type": "execute_result",
          "data": {
            "text/plain": [
              "array([[9458860, 3725840, 6755785],\n",
              "       [3322112, 9331632,  147670],\n",
              "       [ 179165, 3235288, 2013541],\n",
              "       [5781547, 5052152,  358955],\n",
              "       [6703032, 4964509, 3187086],\n",
              "       [4654266, 6725243, 7349106],\n",
              "       [6731379, 6534419, 5149858],\n",
              "       [1808337, 5908194, 2315157],\n",
              "       [7799256,  512179, 7081295],\n",
              "       [9816570, 2922524,  576254],\n",
              "       [8425055, 4102477,  207391],\n",
              "       [6086594, 4017511, 1960487],\n",
              "       [8523727, 4568074,  237265],\n",
              "       [9912508, 4170666, 4559163],\n",
              "       [8216393,  142033, 2724379],\n",
              "       [4441414, 5819149, 6233876],\n",
              "       [7625545, 7777347, 4843042],\n",
              "       [ 534108, 3513247, 1577079],\n",
              "       [8210157, 2734364, 4762661],\n",
              "       [5928406, 5309268, 1143508]])"
            ]
          },
          "metadata": {},
          "execution_count": 19
        }
      ]
    },
    {
      "cell_type": "code",
      "source": [
        "d_arr[:2,:3]"
      ],
      "metadata": {
        "colab": {
          "base_uri": "https://localhost:8080/"
        },
        "id": "BZWNDBm1lW2E",
        "outputId": "d0e1e74a-63c0-4a09-9cd3-b7d2a3ae0a8d"
      },
      "execution_count": 26,
      "outputs": [
        {
          "output_type": "execute_result",
          "data": {
            "text/plain": [
              "array([[8309161, 1630408, 7392735],\n",
              "       [7167492, 4158011, 2532001]])"
            ]
          },
          "metadata": {},
          "execution_count": 26
        }
      ]
    },
    {
      "cell_type": "code",
      "source": [
        "d_arr[10:12,8:13]"
      ],
      "metadata": {
        "colab": {
          "base_uri": "https://localhost:8080/"
        },
        "id": "XBhziW0Blg8w",
        "outputId": "b5d95d04-33af-487b-e6aa-5de0acfc7ee0"
      },
      "execution_count": 27,
      "outputs": [
        {
          "output_type": "execute_result",
          "data": {
            "text/plain": [
              "array([[3302050, 8803563, 5119275, 8284710, 3332139],\n",
              "       [3690119, 9637928,  250343, 9443466, 2743104]])"
            ]
          },
          "metadata": {},
          "execution_count": 27
        }
      ]
    },
    {
      "cell_type": "code",
      "source": [
        "d_arr[-8:-5,-9:-5]"
      ],
      "metadata": {
        "colab": {
          "base_uri": "https://localhost:8080/"
        },
        "id": "1EvDrM4zmArS",
        "outputId": "2f9729ce-33c5-4084-cedf-a9e881300691"
      },
      "execution_count": 32,
      "outputs": [
        {
          "output_type": "execute_result",
          "data": {
            "text/plain": [
              "array([[4558566, 8993599, 7974084,  937483],\n",
              "       [5872748, 5692186, 2230769, 8241271],\n",
              "       [9098311, 4616636, 3634677, 9151092]])"
            ]
          },
          "metadata": {},
          "execution_count": 32
        }
      ]
    },
    {
      "cell_type": "code",
      "source": [],
      "metadata": {
        "id": "yOCsLZtOmpxF"
      },
      "execution_count": null,
      "outputs": []
    }
  ]
}